{
  "nbformat": 4,
  "nbformat_minor": 0,
  "metadata": {
    "colab": {
      "name": "nn_5_rnn.ipynb",
      "provenance": [],
      "collapsed_sections": [],
      "include_colab_link": true
    },
    "kernelspec": {
      "name": "python3",
      "display_name": "Python 3"
    },
    "language_info": {
      "codemirror_mode": {
        "name": "ipython",
        "version": 3
      },
      "file_extension": ".py",
      "mimetype": "text/x-python",
      "name": "python",
      "nbconvert_exporter": "python",
      "pygments_lexer": "ipython3",
      "version": "3.6.8"
    },
    "accelerator": "GPU"
  },
  "cells": [
    {
      "cell_type": "markdown",
      "metadata": {
        "id": "view-in-github",
        "colab_type": "text"
      },
      "source": [
        "<a href=\"https://colab.research.google.com/github/eyaler/workshop/blob/master/output/nn_5_rnn.ipynb\" target=\"_parent\"><img src=\"https://colab.research.google.com/assets/colab-badge.svg\" alt=\"Open In Colab\"/></a>"
      ]
    },
    {
      "cell_type": "markdown",
      "metadata": {
        "id": "csvOItTNfHqk"
      },
      "source": [
        "# 5. Recurrent Neural Networks"
      ]
    },
    {
      "cell_type": "code",
      "metadata": {
        "id": "mudsfWpldVGN",
        "outputId": "99f2a39d-4029-4807-b3c7-2c6793300928",
        "colab": {
          "base_uri": "https://localhost:8080/",
          "height": 911
        }
      },
      "source": [
        "!pip install tensorflow-gpu==1.15.3\n",
        "!pip install livelossplot\n",
        "!pip install keras==2.2.5\n",
        "from keras.callbacks import LambdaCallback\n",
        "from keras import Input, Model\n",
        "from keras.layers import LSTM, Dense, Dropout\n",
        "from keras.optimizers import RMSprop\n",
        "from keras.utils import get_file\n",
        "import matplotlib\n",
        "import matplotlib.pyplot as plt\n",
        "from livelossplot import PlotLossesKeras\n",
        "import numpy as np\n",
        "import sys\n",
        "import re\n",
        "from collections import Counter\n",
        "matplotlib.rcParams['figure.figsize'] = (10.0, 8.0)\n",
        "!nvidia-smi -L"
      ],
      "execution_count": null,
      "outputs": [
        {
          "output_type": "stream",
          "text": [
            "TensorFlow 1.x selected.\n",
            "Collecting keras==2.2.5\n",
            "\u001b[?25l  Downloading https://files.pythonhosted.org/packages/f8/ba/2d058dcf1b85b9c212cc58264c98a4a7dd92c989b798823cc5690d062bb2/Keras-2.2.5-py2.py3-none-any.whl (336kB)\n",
            "\u001b[K     |████████████████████████████████| 337kB 8.3MB/s \n",
            "\u001b[?25hRequirement already satisfied: keras-preprocessing>=1.1.0 in /usr/local/lib/python3.6/dist-packages (from keras==2.2.5) (1.1.2)\n",
            "Requirement already satisfied: pyyaml in /usr/local/lib/python3.6/dist-packages (from keras==2.2.5) (3.13)\n",
            "Requirement already satisfied: six>=1.9.0 in /usr/local/lib/python3.6/dist-packages (from keras==2.2.5) (1.12.0)\n",
            "Requirement already satisfied: scipy>=0.14 in /usr/local/lib/python3.6/dist-packages (from keras==2.2.5) (1.4.1)\n",
            "Requirement already satisfied: h5py in /usr/local/lib/python3.6/dist-packages (from keras==2.2.5) (2.10.0)\n",
            "Requirement already satisfied: numpy>=1.9.1 in /usr/local/lib/python3.6/dist-packages (from keras==2.2.5) (1.18.5)\n",
            "Requirement already satisfied: keras-applications>=1.0.8 in /usr/local/lib/python3.6/dist-packages (from keras==2.2.5) (1.0.8)\n",
            "Installing collected packages: keras\n",
            "  Found existing installation: Keras 2.3.1\n",
            "    Uninstalling Keras-2.3.1:\n",
            "      Successfully uninstalled Keras-2.3.1\n",
            "Successfully installed keras-2.2.5\n",
            "Collecting livelossplot\n",
            "  Downloading https://files.pythonhosted.org/packages/45/59/1e00dce77cacd9cd6038609809ee3666f6ba46953d2d1862637506b7c5d7/livelossplot-0.5.1-py3-none-any.whl\n",
            "Requirement already satisfied: ipython in /usr/local/lib/python3.6/dist-packages (from livelossplot) (5.5.0)\n",
            "Requirement already satisfied: matplotlib; python_version >= \"3.6\" in /usr/local/lib/python3.6/dist-packages (from livelossplot) (3.2.2)\n",
            "Requirement already satisfied: bokeh; python_version >= \"3.6\" in /usr/local/lib/python3.6/dist-packages (from livelossplot) (1.4.0)\n",
            "Requirement already satisfied: pygments in /usr/local/lib/python3.6/dist-packages (from ipython->livelossplot) (2.1.3)\n",
            "Requirement already satisfied: traitlets>=4.2 in /usr/local/lib/python3.6/dist-packages (from ipython->livelossplot) (4.3.3)\n",
            "Requirement already satisfied: pexpect; sys_platform != \"win32\" in /usr/local/lib/python3.6/dist-packages (from ipython->livelossplot) (4.8.0)\n",
            "Requirement already satisfied: setuptools>=18.5 in /usr/local/lib/python3.6/dist-packages (from ipython->livelossplot) (49.1.0)\n",
            "Requirement already satisfied: pickleshare in /usr/local/lib/python3.6/dist-packages (from ipython->livelossplot) (0.7.5)\n",
            "Requirement already satisfied: prompt-toolkit<2.0.0,>=1.0.4 in /usr/local/lib/python3.6/dist-packages (from ipython->livelossplot) (1.0.18)\n",
            "Requirement already satisfied: decorator in /usr/local/lib/python3.6/dist-packages (from ipython->livelossplot) (4.4.2)\n",
            "Requirement already satisfied: simplegeneric>0.8 in /usr/local/lib/python3.6/dist-packages (from ipython->livelossplot) (0.8.1)\n",
            "Requirement already satisfied: python-dateutil>=2.1 in /usr/local/lib/python3.6/dist-packages (from matplotlib; python_version >= \"3.6\"->livelossplot) (2.8.1)\n",
            "Requirement already satisfied: pyparsing!=2.0.4,!=2.1.2,!=2.1.6,>=2.0.1 in /usr/local/lib/python3.6/dist-packages (from matplotlib; python_version >= \"3.6\"->livelossplot) (2.4.7)\n",
            "Requirement already satisfied: kiwisolver>=1.0.1 in /usr/local/lib/python3.6/dist-packages (from matplotlib; python_version >= \"3.6\"->livelossplot) (1.2.0)\n",
            "Requirement already satisfied: cycler>=0.10 in /usr/local/lib/python3.6/dist-packages (from matplotlib; python_version >= \"3.6\"->livelossplot) (0.10.0)\n",
            "Requirement already satisfied: numpy>=1.11 in /usr/local/lib/python3.6/dist-packages (from matplotlib; python_version >= \"3.6\"->livelossplot) (1.18.5)\n",
            "Requirement already satisfied: tornado>=4.3 in /usr/local/lib/python3.6/dist-packages (from bokeh; python_version >= \"3.6\"->livelossplot) (4.5.3)\n",
            "Requirement already satisfied: six>=1.5.2 in /usr/local/lib/python3.6/dist-packages (from bokeh; python_version >= \"3.6\"->livelossplot) (1.12.0)\n",
            "Requirement already satisfied: PyYAML>=3.10 in /usr/local/lib/python3.6/dist-packages (from bokeh; python_version >= \"3.6\"->livelossplot) (3.13)\n",
            "Requirement already satisfied: Jinja2>=2.7 in /usr/local/lib/python3.6/dist-packages (from bokeh; python_version >= \"3.6\"->livelossplot) (2.11.2)\n",
            "Requirement already satisfied: packaging>=16.8 in /usr/local/lib/python3.6/dist-packages (from bokeh; python_version >= \"3.6\"->livelossplot) (20.4)\n",
            "Requirement already satisfied: pillow>=4.0 in /usr/local/lib/python3.6/dist-packages (from bokeh; python_version >= \"3.6\"->livelossplot) (7.0.0)\n",
            "Requirement already satisfied: ipython-genutils in /usr/local/lib/python3.6/dist-packages (from traitlets>=4.2->ipython->livelossplot) (0.2.0)\n",
            "Requirement already satisfied: ptyprocess>=0.5 in /usr/local/lib/python3.6/dist-packages (from pexpect; sys_platform != \"win32\"->ipython->livelossplot) (0.6.0)\n",
            "Requirement already satisfied: wcwidth in /usr/local/lib/python3.6/dist-packages (from prompt-toolkit<2.0.0,>=1.0.4->ipython->livelossplot) (0.2.5)\n",
            "Requirement already satisfied: MarkupSafe>=0.23 in /usr/local/lib/python3.6/dist-packages (from Jinja2>=2.7->bokeh; python_version >= \"3.6\"->livelossplot) (1.1.1)\n",
            "Installing collected packages: livelossplot\n",
            "Successfully installed livelossplot-0.5.1\n"
          ],
          "name": "stdout"
        },
        {
          "output_type": "stream",
          "text": [
            "Using TensorFlow backend.\n"
          ],
          "name": "stderr"
        },
        {
          "output_type": "stream",
          "text": [
            "GPU 0: Tesla P100-PCIE-16GB (UUID: GPU-3f200dc2-5bc4-e03f-935f-b9933378349c)\n"
          ],
          "name": "stdout"
        }
      ]
    },
    {
      "cell_type": "code",
      "metadata": {
        "id": "fifPjuOxdVGe"
      },
      "source": [
        "# set random seeds for more reproducible results\n",
        "from numpy.random import seed\n",
        "seed(42)\n",
        "from tensorflow import set_random_seed\n",
        "set_random_seed(43)"
      ],
      "execution_count": null,
      "outputs": []
    },
    {
      "cell_type": "code",
      "metadata": {
        "id": "CHczAfijdVGm",
        "outputId": "c156e4f7-d233-40b4-bf28-e60db4e3788a",
        "colab": {
          "base_uri": "https://localhost:8080/",
          "height": 110
        }
      },
      "source": [
        "path = get_file('trump.txt', origin='https://raw.githubusercontent.com/ryanmcdermott/trump-speeches/master/speeches.txt')\n",
        "\n",
        "with open(path, encoding='utf-8') as f:\n",
        "    text = f.read()\n",
        "    \n",
        "print(Counter(text))\n",
        "text = text.lower()\n",
        "text = re.sub('\\n+','\\n',text)\n",
        "text = re.sub(r'[^a-z0-9 \\n.,\\'\"?!$%-]','',text)\n",
        "print('corpus length:', len(text))"
      ],
      "execution_count": null,
      "outputs": [
        {
          "output_type": "stream",
          "text": [
            "Downloading data from https://raw.githubusercontent.com/ryanmcdermott/trump-speeches/master/speeches.txt\n",
            "925696/924745 [==============================] - 0s 0us/step\n",
            "Counter({' ': 164220, 'e': 79150, 't': 60637, 'o': 54015, 'a': 49780, 'n': 45386, 'i': 39450, 's': 33723, 'h': 32820, 'r': 32820, 'l': 26017, 'd': 23285, 'u': 19134, 'y': 17173, 'g': 16934, '.': 15959, 'w': 14991, 'm': 14530, 'c': 12868, 'p': 11379, 'b': 10743, 'I': 9830, 'f': 9066, ',': 8770, '’': 8443, 'v': 8375, '\\n': 7677, 'k': 7002, 'T': 5917, 'A': 5240, 'E': 4270, 'O': 3477, 'S': 3417, 'W': 3312, 'N': 2963, 'H': 2596, 'R': 2125, 'B': 2050, 'Y': 1845, 'C': 1599, 'L': 1594, '\"': 1574, 'D': 1531, 'M': 1384, '?': 1303, '–': 1301, 'G': 1202, 'P': 1128, 'U': 1110, '0': 1097, 'j': 932, \"'\": 918, 'x': 773, 'F': 760, '1': 581, 'K': 526, '—': 515, '-': 506, 'V': 482, 'z': 457, '5': 409, '2': 404, '$': 385, 'J': 367, 'q': 288, '%': 271, '4': 201, '3': 183, '6': 142, ';': 133, '9': 114, '…': 101, '7': 91, '8': 85, '!': 65, ':': 58, '[': 50, ']': 50, '(': 39, ')': 39, 'Q': 25, 'X': 24, 'Z': 24, '‘': 19, '/': 12, '“': 9, '”': 9, '_': 5, 'é': 2, '\\ufeff': 1, '=': 1, '@': 1, '&': 1})\n",
            "corpus length: 882089\n"
          ],
          "name": "stdout"
        }
      ]
    },
    {
      "cell_type": "code",
      "metadata": {
        "id": "QvFaN3mqdVG2",
        "outputId": "ddb6c494-9dc4-442e-c104-d8a770a25218",
        "colab": {
          "base_uri": "https://localhost:8080/",
          "height": 35
        }
      },
      "source": [
        "chars = sorted(set(text))\n",
        "print('vocab size:', len(chars))\n",
        "char_indices = {c:i for i, c in enumerate(chars)}\n",
        "indices_char = {i:c for i, c in enumerate(chars)}"
      ],
      "execution_count": null,
      "outputs": [
        {
          "output_type": "stream",
          "text": [
            "vocab size: 47\n"
          ],
          "name": "stdout"
        }
      ]
    },
    {
      "cell_type": "code",
      "metadata": {
        "id": "OIG9breGdVG_"
      },
      "source": [
        "# cut the text in semi-redundant sequences of max_seq_len characters\n",
        "max_seq_len = 40\n",
        "step = 3\n",
        "\n",
        "def get_seq(data):\n",
        "    sentences = []\n",
        "    next_chars = []\n",
        "    for i in range(0, len(data) - max_seq_len, step):\n",
        "        sentences.append(data[i: i + max_seq_len])\n",
        "        next_chars.append(data[i + max_seq_len])\n",
        "    \n",
        "    # vectorize:\n",
        "    x = np.zeros((len(sentences), max_seq_len, len(chars)), dtype=np.bool)\n",
        "    y = np.zeros((len(sentences), len(chars)), dtype=np.bool)\n",
        "    for i, sentence in enumerate(sentences):\n",
        "        for t, char in enumerate(sentence):\n",
        "            x[i, t, char_indices[char]] = 1\n",
        "        y[i, char_indices[next_chars[i]]] = 1\n",
        "    \n",
        "    return x,y"
      ],
      "execution_count": null,
      "outputs": []
    },
    {
      "cell_type": "code",
      "metadata": {
        "id": "gU9ugd6zdVHI",
        "outputId": "6222d56f-1b85-4359-d3a2-de9a3efaab9d",
        "colab": {
          "base_uri": "https://localhost:8080/",
          "height": 53
        }
      },
      "source": [
        "split_idx = int(len(text)*0.9)\n",
        "train = text[:split_idx]\n",
        "valid = text[split_idx:]\n",
        "\n",
        "x,y = get_seq(train)\n",
        "print('number of sequences in train:', len(x))\n",
        "x_val,y_val = get_seq(valid)\n",
        "print('number of sequences in validation:', len(x_val))"
      ],
      "execution_count": null,
      "outputs": [
        {
          "output_type": "stream",
          "text": [
            "number of sequences in train: 264614\n",
            "number of sequences in validation: 29390\n"
          ],
          "name": "stdout"
        }
      ]
    },
    {
      "cell_type": "code",
      "metadata": {
        "id": "N0sbzN1OdVHR"
      },
      "source": [
        "# build the model\n",
        "def get_model(max_seq_len, vocab_size, nodes, depth=1):\n",
        "    inputs = Input(shape=(max_seq_len, vocab_size))\n",
        "    f = inputs\n",
        "    for i in range(depth):\n",
        "        f = LSTM(nodes, dropout=0.2, recurrent_dropout=0.2, return_sequences=i<depth-1)(f)\n",
        "    f = Dropout(0.2)(f)\n",
        "    outputs = Dense(vocab_size, activation='softmax')(f)\n",
        "    return Model(inputs=inputs, outputs=outputs)"
      ],
      "execution_count": null,
      "outputs": []
    },
    {
      "cell_type": "code",
      "metadata": {
        "id": "-8obg9J_dVHX"
      },
      "source": [
        "#temperature = 0\n",
        "#temperature = 1\n",
        "temperature = 0.5\n",
        "\n",
        "def get_next_char(preds):\n",
        "     # these are necessary due to numerical precision issues:\n",
        "    preds = np.asarray(preds, dtype=np.float64)\n",
        "    preds = preds / np.sum(preds)\n",
        "    \n",
        "    # your code here:\n",
        "    if temperature == 0:\n",
        "        probas = preds\n",
        "    elif temperature == 1:\n",
        "        probas = np.random.multinomial(1, preds)\n",
        "    else:\n",
        "        # helper function to sample an index from a probability array\n",
        "        exp_preds = np.exp(np.log(preds+1e-6) / temperature)\n",
        "        preds = exp_preds / np.sum(exp_preds)\n",
        "        probas = np.random.multinomial(1, preds)\n",
        "    next_index = np.argmax(probas)\n",
        "    return indices_char[next_index]"
      ],
      "execution_count": null,
      "outputs": []
    },
    {
      "cell_type": "code",
      "metadata": {
        "id": "2vc_yzILdVHf"
      },
      "source": [
        "def on_epoch_end(epoch, logs):\n",
        "    # Function invoked at end of each epoch. Prints generated text.\n",
        "    if epoch%10 != 0:\n",
        "        return\n",
        "    \n",
        "    print()\n",
        "    print('----- Generating text after Epoch: %d' % epoch)\n",
        "\n",
        "    data = valid\n",
        "    \n",
        "    start_index = np.random.randint(0, len(data) - max_seq_len - 1)\n",
        "        \n",
        "    sentence = data[start_index: start_index + max_seq_len]\n",
        "    generated = sentence\n",
        "    print('----- Generating with seed: \"' + sentence + '\"')\n",
        "    print()\n",
        "    sys.stdout.write(generated)\n",
        "\n",
        "    for i in range(400):\n",
        "        x_pred = np.zeros((1, max_seq_len, len(chars)))\n",
        "        for t, char in enumerate(sentence):\n",
        "            x_pred[0, t, char_indices[char]] = 1.\n",
        "\n",
        "        preds = model.predict(x_pred, verbose=0)[0]\n",
        "        next_char = get_next_char(preds)\n",
        "\n",
        "        generated += next_char\n",
        "        sentence = sentence[1:] + next_char\n",
        "\n",
        "        sys.stdout.write(next_char)\n",
        "        sys.stdout.flush()\n",
        "    print()\n",
        "\n",
        "print_callback = LambdaCallback(on_epoch_end=on_epoch_end)"
      ],
      "execution_count": null,
      "outputs": []
    },
    {
      "cell_type": "code",
      "metadata": {
        "id": "JmlEVFlLdVHp"
      },
      "source": [
        "optimizer = RMSprop(lr=0.01)\n",
        "batch_size = 128\n",
        "epochs = 21"
      ],
      "execution_count": null,
      "outputs": []
    },
    {
      "cell_type": "code",
      "metadata": {
        "id": "q_njrwyGdVHy",
        "outputId": "99b72b94-b648-4bb7-d33a-71410f8f3ea6",
        "colab": {
          "base_uri": "https://localhost:8080/",
          "height": 1000
        }
      },
      "source": [
        "model = get_model(max_seq_len, len(chars), 128, depth=1)\n",
        "print(model.summary())\n",
        "model.compile(loss='categorical_crossentropy', optimizer=optimizer, metrics=['accuracy'])\n",
        "\n",
        "seed(42)\n",
        "set_random_seed(43)\n",
        "\n",
        "history = model.fit(x, y,\n",
        "          batch_size=batch_size,\n",
        "          epochs=epochs,\n",
        "          callbacks=[print_callback], validation_data=(x_val,y_val))"
      ],
      "execution_count": null,
      "outputs": [
        {
          "output_type": "stream",
          "text": [
            "WARNING:tensorflow:From /usr/local/lib/python3.6/dist-packages/keras/backend/tensorflow_backend.py:66: The name tf.get_default_graph is deprecated. Please use tf.compat.v1.get_default_graph instead.\n",
            "\n",
            "WARNING:tensorflow:From /usr/local/lib/python3.6/dist-packages/keras/backend/tensorflow_backend.py:541: The name tf.placeholder is deprecated. Please use tf.compat.v1.placeholder instead.\n",
            "\n",
            "WARNING:tensorflow:From /usr/local/lib/python3.6/dist-packages/keras/backend/tensorflow_backend.py:4432: The name tf.random_uniform is deprecated. Please use tf.random.uniform instead.\n",
            "\n",
            "WARNING:tensorflow:From /usr/local/lib/python3.6/dist-packages/keras/backend/tensorflow_backend.py:148: The name tf.placeholder_with_default is deprecated. Please use tf.compat.v1.placeholder_with_default instead.\n",
            "\n",
            "WARNING:tensorflow:From /usr/local/lib/python3.6/dist-packages/keras/backend/tensorflow_backend.py:3733: calling dropout (from tensorflow.python.ops.nn_ops) with keep_prob is deprecated and will be removed in a future version.\n",
            "Instructions for updating:\n",
            "Please use `rate` instead of `keep_prob`. Rate should be set to `rate = 1 - keep_prob`.\n",
            "Model: \"model_1\"\n",
            "_________________________________________________________________\n",
            "Layer (type)                 Output Shape              Param #   \n",
            "=================================================================\n",
            "input_1 (InputLayer)         (None, 40, 47)            0         \n",
            "_________________________________________________________________\n",
            "lstm_1 (LSTM)                (None, 128)               90112     \n",
            "_________________________________________________________________\n",
            "dropout_1 (Dropout)          (None, 128)               0         \n",
            "_________________________________________________________________\n",
            "dense_1 (Dense)              (None, 47)                6063      \n",
            "=================================================================\n",
            "Total params: 96,175\n",
            "Trainable params: 96,175\n",
            "Non-trainable params: 0\n",
            "_________________________________________________________________\n",
            "None\n",
            "WARNING:tensorflow:From /usr/local/lib/python3.6/dist-packages/keras/optimizers.py:793: The name tf.train.Optimizer is deprecated. Please use tf.compat.v1.train.Optimizer instead.\n",
            "\n",
            "WARNING:tensorflow:From /usr/local/lib/python3.6/dist-packages/keras/backend/tensorflow_backend.py:3576: The name tf.log is deprecated. Please use tf.math.log instead.\n",
            "\n",
            "WARNING:tensorflow:From /tensorflow-1.15.2/python3.6/tensorflow_core/python/ops/math_grad.py:1424: where (from tensorflow.python.ops.array_ops) is deprecated and will be removed in a future version.\n",
            "Instructions for updating:\n",
            "Use tf.where in 2.0, which has the same broadcast rule as np.where\n",
            "WARNING:tensorflow:From /usr/local/lib/python3.6/dist-packages/keras/backend/tensorflow_backend.py:1033: The name tf.assign_add is deprecated. Please use tf.compat.v1.assign_add instead.\n",
            "\n",
            "WARNING:tensorflow:From /usr/local/lib/python3.6/dist-packages/keras/backend/tensorflow_backend.py:1020: The name tf.assign is deprecated. Please use tf.compat.v1.assign instead.\n",
            "\n",
            "WARNING:tensorflow:From /usr/local/lib/python3.6/dist-packages/keras/backend/tensorflow_backend.py:3005: The name tf.Session is deprecated. Please use tf.compat.v1.Session instead.\n",
            "\n",
            "Train on 264614 samples, validate on 29390 samples\n",
            "Epoch 1/21\n",
            "WARNING:tensorflow:From /usr/local/lib/python3.6/dist-packages/keras/backend/tensorflow_backend.py:190: The name tf.get_default_session is deprecated. Please use tf.compat.v1.get_default_session instead.\n",
            "\n",
            "WARNING:tensorflow:From /usr/local/lib/python3.6/dist-packages/keras/backend/tensorflow_backend.py:197: The name tf.ConfigProto is deprecated. Please use tf.compat.v1.ConfigProto instead.\n",
            "\n",
            "WARNING:tensorflow:From /usr/local/lib/python3.6/dist-packages/keras/backend/tensorflow_backend.py:207: The name tf.global_variables is deprecated. Please use tf.compat.v1.global_variables instead.\n",
            "\n",
            "WARNING:tensorflow:From /usr/local/lib/python3.6/dist-packages/keras/backend/tensorflow_backend.py:216: The name tf.is_variable_initialized is deprecated. Please use tf.compat.v1.is_variable_initialized instead.\n",
            "\n",
            "WARNING:tensorflow:From /usr/local/lib/python3.6/dist-packages/keras/backend/tensorflow_backend.py:223: The name tf.variables_initializer is deprecated. Please use tf.compat.v1.variables_initializer instead.\n",
            "\n",
            "264614/264614 [==============================] - 145s 548us/step - loss: 2.0006 - acc: 0.4217 - val_loss: 1.7332 - val_acc: 0.5016\n",
            "\n",
            "----- Generating text after Epoch: 0\n",
            "----- Generating with seed: \"tand it, but i think a lot of people don\"\n",
            "\n",
            "tand it, but i think a lot of people dont deant of in the the mone for we cant of cair the said in when the been they have me and even some the way and it and he real the really not real, the enect and i neaded and and i think they can the olly the are the people and the can and they cant to get the people and you say, and the country and they going to do the probaus and they said the million and we have the migut we thank i have me and\n",
            "Epoch 2/21\n",
            "264614/264614 [==============================] - 136s 514us/step - loss: 1.7303 - acc: 0.4889 - val_loss: 1.6151 - val_acc: 0.5294\n",
            "Epoch 3/21\n",
            "264614/264614 [==============================] - 136s 514us/step - loss: 1.6790 - acc: 0.5039 - val_loss: 1.5993 - val_acc: 0.5406\n",
            "Epoch 4/21\n",
            "264614/264614 [==============================] - 135s 509us/step - loss: 1.6583 - acc: 0.5104 - val_loss: 1.5730 - val_acc: 0.5443\n",
            "Epoch 5/21\n",
            "264614/264614 [==============================] - 136s 512us/step - loss: 1.6473 - acc: 0.5132 - val_loss: 1.5550 - val_acc: 0.5482\n",
            "Epoch 6/21\n",
            "264614/264614 [==============================] - 135s 511us/step - loss: 1.6389 - acc: 0.5161 - val_loss: 1.5626 - val_acc: 0.5513\n",
            "Epoch 7/21\n",
            "264614/264614 [==============================] - 135s 511us/step - loss: 1.6323 - acc: 0.5171 - val_loss: 1.5559 - val_acc: 0.5491\n",
            "Epoch 8/21\n",
            "264614/264614 [==============================] - 135s 512us/step - loss: 1.6296 - acc: 0.5189 - val_loss: 1.5484 - val_acc: 0.5536\n",
            "Epoch 9/21\n",
            "264614/264614 [==============================] - 135s 510us/step - loss: 1.6277 - acc: 0.5194 - val_loss: 1.5531 - val_acc: 0.5536\n",
            "Epoch 10/21\n",
            "264614/264614 [==============================] - 136s 515us/step - loss: 1.6289 - acc: 0.5193 - val_loss: 1.5550 - val_acc: 0.5514\n",
            "Epoch 11/21\n",
            "264614/264614 [==============================] - 135s 511us/step - loss: 1.6291 - acc: 0.5194 - val_loss: 1.5439 - val_acc: 0.5532\n",
            "\n",
            "----- Generating text after Epoch: 10\n",
            "----- Generating with seed: \"f heads. well, they are chopping off hea\"\n",
            "\n",
            "f heads. well, they are chopping off heard is a bant to be a so the some that a the people they have a money probably me now in the people as the president very people. they was love incredible we stall in the speching in the post to what the probably was a deal and you know the country. i want to say and they want to stating the fact and i want to do it is sect and we have to stall the and i states. but i think im every stand the state\n",
            "Epoch 12/21\n",
            "264614/264614 [==============================] - 136s 514us/step - loss: 1.6259 - acc: 0.5194 - val_loss: 1.5543 - val_acc: 0.5534\n",
            "Epoch 13/21\n",
            "264614/264614 [==============================] - 136s 515us/step - loss: 1.6285 - acc: 0.5202 - val_loss: 1.5488 - val_acc: 0.5551\n",
            "Epoch 14/21\n",
            "264614/264614 [==============================] - 137s 517us/step - loss: 1.6263 - acc: 0.5203 - val_loss: 1.5549 - val_acc: 0.5544\n",
            "Epoch 15/21\n",
            "264614/264614 [==============================] - 143s 539us/step - loss: 1.6290 - acc: 0.5206 - val_loss: 1.5530 - val_acc: 0.5505\n",
            "Epoch 16/21\n",
            "264614/264614 [==============================] - 144s 544us/step - loss: 1.6296 - acc: 0.5202 - val_loss: 1.5605 - val_acc: 0.5507\n",
            "Epoch 17/21\n",
            "264614/264614 [==============================] - 145s 548us/step - loss: 1.6292 - acc: 0.5201 - val_loss: 1.5591 - val_acc: 0.5494\n",
            "Epoch 18/21\n",
            "264614/264614 [==============================] - 143s 540us/step - loss: 1.6298 - acc: 0.5195 - val_loss: 1.5656 - val_acc: 0.5453\n",
            "Epoch 19/21\n",
            "264614/264614 [==============================] - 139s 527us/step - loss: 1.6305 - acc: 0.5199 - val_loss: 1.5682 - val_acc: 0.5513\n",
            "Epoch 20/21\n",
            "264614/264614 [==============================] - 140s 528us/step - loss: 1.6343 - acc: 0.5194 - val_loss: 1.5804 - val_acc: 0.5488\n",
            "Epoch 21/21\n",
            "264614/264614 [==============================] - 134s 506us/step - loss: 1.6371 - acc: 0.5178 - val_loss: 1.5810 - val_acc: 0.5486\n",
            "\n",
            "----- Generating text after Epoch: 20\n",
            "----- Generating with seed: \"t we have  look, ukraine. i want ukraine\"\n",
            "\n",
            "t we have  look, ukraine. i want ukraine who country. we have to the more to doesnt like they want to be im the eneming because they want to be a problems. i mean, they look at we can we have the cunincouns in the endioned a country the into that its going to get the moring that we have you what we get a bungect at we and it build because they mean, they have to win our firtions our cumplent, they do, i do its the people our a states in\n"
          ],
          "name": "stdout"
        }
      ]
    },
    {
      "cell_type": "code",
      "metadata": {
        "id": "n-VlbLcqdVH7",
        "outputId": "f4cf2bcd-2dbe-42a1-c346-a0bbdcd172fc",
        "colab": {
          "base_uri": "https://localhost:8080/",
          "height": 573
        }
      },
      "source": [
        "plt.plot(history.history['acc'])\n",
        "plt.plot(history.history['val_acc'])\n",
        "plt.title('model accuracy')\n",
        "plt.ylabel('accuracy')\n",
        "plt.xlabel('epoch')\n",
        "plt.legend(['train', 'valid'], loc='upper left')\n",
        "plt.show()\n",
        "# summarize history for loss\n",
        "plt.plot(history.history['loss'])\n",
        "plt.plot(history.history['val_loss'])\n",
        "plt.title('model loss')\n",
        "plt.ylabel('loss')\n",
        "plt.xlabel('epoch')\n",
        "plt.legend(['train', 'valid'], loc='upper left')\n",
        "plt.show()"
      ],
      "execution_count": null,
      "outputs": [
        {
          "output_type": "display_data",
          "data": {
            "image/png": "[encoded data removed]",
            "text/plain": [
              "<Figure size 432x288 with 1 Axes>"
            ]
          },
          "metadata": {
            "tags": [],
            "needs_background": "light"
          }
        },
        {
          "output_type": "display_data",
          "data": {
            "image/png": "[encoded data removed]",
            "text/plain": [
              "<Figure size 432x288 with 1 Axes>"
            ]
          },
          "metadata": {
            "tags": [],
            "needs_background": "light"
          }
        }
      ]
    },
    {
      "cell_type": "code",
      "metadata": {
        "id": "9Ms-KO1DdVIE",
        "outputId": "37a2327d-a781-4cab-8438-732050043119",
        "colab": {
          "base_uri": "https://localhost:8080/",
          "height": 1000
        }
      },
      "source": [
        "model = get_model(max_seq_len, len(chars), 64, depth=2)\n",
        "print(model.summary())\n",
        "model.compile(loss='categorical_crossentropy', optimizer=optimizer, metrics=['accuracy'])\n",
        "\n",
        "seed(42)\n",
        "set_random_seed(43)\n",
        "\n",
        "history = model.fit(x, y,\n",
        "          batch_size=batch_size,\n",
        "          epochs=epochs,\n",
        "          callbacks=[print_callback], validation_data=(x_val,y_val))"
      ],
      "execution_count": null,
      "outputs": [
        {
          "output_type": "stream",
          "text": [
            "Model: \"model_2\"\n",
            "_________________________________________________________________\n",
            "Layer (type)                 Output Shape              Param #   \n",
            "=================================================================\n",
            "input_2 (InputLayer)         (None, 40, 47)            0         \n",
            "_________________________________________________________________\n",
            "lstm_2 (LSTM)                (None, 40, 64)            28672     \n",
            "_________________________________________________________________\n",
            "lstm_3 (LSTM)                (None, 64)                33024     \n",
            "_________________________________________________________________\n",
            "dropout_2 (Dropout)          (None, 64)                0         \n",
            "_________________________________________________________________\n",
            "dense_2 (Dense)              (None, 47)                3055      \n",
            "=================================================================\n",
            "Total params: 64,751\n",
            "Trainable params: 64,751\n",
            "Non-trainable params: 0\n",
            "_________________________________________________________________\n",
            "None\n",
            "Train on 264614 samples, validate on 29390 samples\n",
            "Epoch 1/21\n",
            "264614/264614 [==============================] - 273s 1ms/step - loss: 2.1182 - acc: 0.3867 - val_loss: 1.8519 - val_acc: 0.4747\n",
            "\n",
            "----- Generating text after Epoch: 0\n",
            "----- Generating with seed: \"tand it, but i think a lot of people don\"\n",
            "\n",
            "tand it, but i think a lot of people dont do the alper to because and they have that was and the all and i dont theyre can and and i want and buts lost and not the cand not the trust win a sount want that she people the the mand. we say the cand might would the a great sided people and of the seant truth the made cand thats lould the and and they have to cantien sountry. but i want they going to thats whon the country and the know a was\n",
            "Epoch 2/21\n",
            "264614/264614 [==============================] - 271s 1ms/step - loss: 1.8533 - acc: 0.4549 - val_loss: 1.7535 - val_acc: 0.4987\n",
            "Epoch 3/21\n",
            "264614/264614 [==============================] - 271s 1ms/step - loss: 1.7963 - acc: 0.4706 - val_loss: 1.7020 - val_acc: 0.5099\n",
            "Epoch 4/21\n",
            "264614/264614 [==============================] - 269s 1ms/step - loss: 1.7689 - acc: 0.4792 - val_loss: 1.6878 - val_acc: 0.5180\n",
            "Epoch 5/21\n",
            "264614/264614 [==============================] - 280s 1ms/step - loss: 1.7541 - acc: 0.4847 - val_loss: 1.6695 - val_acc: 0.5236\n",
            "Epoch 6/21\n",
            "264614/264614 [==============================] - 274s 1ms/step - loss: 1.7458 - acc: 0.4869 - val_loss: 1.6552 - val_acc: 0.5244\n",
            "Epoch 7/21\n",
            "264614/264614 [==============================] - 271s 1ms/step - loss: 1.7363 - acc: 0.4887 - val_loss: 1.6448 - val_acc: 0.5256\n",
            "Epoch 8/21\n",
            "264614/264614 [==============================] - 270s 1ms/step - loss: 1.7308 - acc: 0.4905 - val_loss: 1.6410 - val_acc: 0.5314\n",
            "Epoch 9/21\n",
            "264614/264614 [==============================] - 268s 1ms/step - loss: 1.7252 - acc: 0.4923 - val_loss: 1.6488 - val_acc: 0.5298\n",
            "Epoch 10/21\n",
            "264614/264614 [==============================] - 263s 995us/step - loss: 1.7249 - acc: 0.4940 - val_loss: 1.6329 - val_acc: 0.5324\n",
            "Epoch 11/21\n",
            "264614/264614 [==============================] - 262s 989us/step - loss: 1.7191 - acc: 0.4937 - val_loss: 1.6285 - val_acc: 0.5325\n",
            "\n",
            "----- Generating text after Epoch: 10\n",
            "----- Generating with seed: \"n who supported it.\n",
            "it was also bill cli\"\n",
            "\n",
            "n who supported it.\n",
            "it was also bill clisions and they love to we said, i want to said a say  and it have the day we have our right and i think we have a great have to this we can a do we get from they would be that  theyre going to have the country. you know, we want to be people of the are didnt want to do and we love to look to cant a have the one press in a lot a lot and they have to be prosien of the pressine thats we mean, we be a\n",
            "Epoch 12/21\n",
            "264614/264614 [==============================] - 260s 983us/step - loss: 1.7207 - acc: 0.4947 - val_loss: 1.6253 - val_acc: 0.5319\n",
            "Epoch 13/21\n",
            "264614/264614 [==============================] - 261s 985us/step - loss: 1.7186 - acc: 0.4948 - val_loss: 1.6247 - val_acc: 0.5356\n",
            "Epoch 14/21\n",
            "264614/264614 [==============================] - 259s 979us/step - loss: 1.7188 - acc: 0.4956 - val_loss: 1.6129 - val_acc: 0.5327\n",
            "Epoch 15/21\n",
            "264614/264614 [==============================] - 258s 977us/step - loss: 1.7226 - acc: 0.4950 - val_loss: 1.6150 - val_acc: 0.5327\n",
            "Epoch 16/21\n",
            "264614/264614 [==============================] - 261s 985us/step - loss: 1.7235 - acc: 0.4940 - val_loss: 1.6246 - val_acc: 0.5333\n",
            "Epoch 17/21\n",
            "264614/264614 [==============================] - 263s 994us/step - loss: 1.7248 - acc: 0.4945 - val_loss: 1.6215 - val_acc: 0.5297\n",
            "Epoch 18/21\n",
            "264614/264614 [==============================] - 261s 986us/step - loss: 1.7271 - acc: 0.4937 - val_loss: 1.6184 - val_acc: 0.5350\n",
            "Epoch 19/21\n",
            "264614/264614 [==============================] - 259s 979us/step - loss: 1.7285 - acc: 0.4937 - val_loss: 1.6243 - val_acc: 0.5340\n",
            "Epoch 20/21\n",
            "264614/264614 [==============================] - 255s 965us/step - loss: 1.7271 - acc: 0.4938 - val_loss: 1.6228 - val_acc: 0.5345\n",
            "Epoch 21/21\n",
            "264614/264614 [==============================] - 254s 960us/step - loss: 1.7297 - acc: 0.4923 - val_loss: 1.6316 - val_acc: 0.5318\n",
            "\n",
            "----- Generating text after Epoch: 20\n",
            "----- Generating with seed: \". we're winning on trade. we're winning \"\n",
            "\n",
            ". we're winning on trade. we're winning about the cant the dorst he really so i would cant the has to cate time and they have a did thats has the at is the world be theyre country. and they cant a take. i was a going to here the pail of the how and they country and the world think it they want the way i dont co want is not the doing you know you have the womment the many, everybody with the mand that with every said cra stresided tho be\n"
          ],
          "name": "stdout"
        }
      ]
    },
    {
      "cell_type": "code",
      "metadata": {
        "id": "_GzI5sifdVIK",
        "outputId": "fa9bec80-db24-4108-f946-9aad363eac08",
        "colab": {
          "base_uri": "https://localhost:8080/",
          "height": 573
        }
      },
      "source": [
        "plt.plot(history.history['acc'])\n",
        "plt.plot(history.history['val_acc'])\n",
        "plt.title('model accuracy')\n",
        "plt.ylabel('accuracy')\n",
        "plt.xlabel('epoch')\n",
        "plt.legend(['train', 'valid'], loc='upper left')\n",
        "plt.show()\n",
        "# summarize history for loss\n",
        "plt.plot(history.history['loss'])\n",
        "plt.plot(history.history['val_loss'])\n",
        "plt.title('model loss')\n",
        "plt.ylabel('loss')\n",
        "plt.xlabel('epoch')\n",
        "plt.legend(['train', 'valid'], loc='upper left')\n",
        "plt.show()"
      ],
      "execution_count": null,
      "outputs": [
        {
          "output_type": "display_data",
          "data": {
            "image/png": "[encoded data removed]",
            "text/plain": [
              "<Figure size 432x288 with 1 Axes>"
            ]
          },
          "metadata": {
            "tags": [],
            "needs_background": "light"
          }
        },
        {
          "output_type": "display_data",
          "data": {
            "image/png": "[encoded data removed]",
            "text/plain": [
              "<Figure size 432x288 with 1 Axes>"
            ]
          },
          "metadata": {
            "tags": [],
            "needs_background": "light"
          }
        }
      ]
    }
  ]
}
