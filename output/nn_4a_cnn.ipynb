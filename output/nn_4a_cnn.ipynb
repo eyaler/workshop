{
  "nbformat": 4,
  "nbformat_minor": 0,
  "metadata": {
    "colab": {
      "name": "nn_4a_cnn.ipynb",
      "provenance": [],
      "private_outputs": true
    },
    "kernelspec": {
      "name": "python3",
      "display_name": "Python 3"
    },
    "accelerator": "GPU"
  },
  "cells": [
    {
      "cell_type": "code",
      "metadata": {
        "id": "359UWQ3VjcqA",
        "colab_type": "code",
        "colab": {}
      },
      "source": [
        "!pip install tensorflow-gpu==1.15.3\n",
        "!pip install keras==2.2.5\n",
        "from keras import Input, Model\n",
        "from keras.layers import Dense, Conv2D, MaxPooling2D, Flatten\n",
        "\n",
        "inputs = Input(shape=(32, 32, 3))\n",
        "f = Conv2D(filters=16, kernel_size=3, padding='same', activation='relu')(inputs)\n",
        "f = MaxPooling2D()(f)\n",
        "f = Conv2D(filters=32, kernel_size=3, padding='same', activation='relu')(f)\n",
        "f = MaxPooling2D()(f)\n",
        "f = Flatten()(f)\n",
        "f = Dense(512, activation='relu')(f)\n",
        "outputs = Dense(10, activation='softmax')(f)\n",
        "\n",
        "model = Model(inputs=inputs, outputs=outputs)\n",
        "model.summary()"
      ],
      "execution_count": 0,
      "outputs": []
    }
  ]
}
