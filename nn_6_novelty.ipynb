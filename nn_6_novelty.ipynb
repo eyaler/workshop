{
  "nbformat": 4,
  "nbformat_minor": 0,
  "metadata": {
    "accelerator": "GPU",
    "colab": {
      "name": "nn_6_novelty.ipynb",
      "provenance": [],
      "collapsed_sections": [],
      "include_colab_link": true
    },
    "kernelspec": {
      "name": "python3",
      "display_name": "Python 3"
    },
    "language_info": {
      "codemirror_mode": {
        "name": "ipython",
        "version": 3
      },
      "file_extension": ".py",
      "mimetype": "text/x-python",
      "name": "python",
      "nbconvert_exporter": "python",
      "pygments_lexer": "ipython3",
      "version": "3.6.8"
    }
  },
  "cells": [
    {
      "cell_type": "markdown",
      "metadata": {
        "id": "view-in-github",
        "colab_type": "text"
      },
      "source": [
        "<a href=\"https://colab.research.google.com/github/eyaler/workshop/blob/master/nn_6_novelty.ipynb\" target=\"_parent\"><img src=\"https://colab.research.google.com/assets/colab-badge.svg\" alt=\"Open In Colab\"/></a>"
      ]
    },
    {
      "cell_type": "markdown",
      "metadata": {
        "id": "VPL9z9UsfEgd"
      },
      "source": [
        "# 6. Novelty detection\n"
      ]
    },
    {
      "cell_type": "code",
      "metadata": {
        "id": "jaJB3RfDdoPl"
      },
      "source": [
        "!pip install tensorflow-gpu==1.15.3\n",
        "!pip install livelossplot\n",
        "!pip install keras==2.2.5\n",
        "import numpy as np\n",
        "import matplotlib\n",
        "import matplotlib.pyplot as plt\n",
        "from sklearn.utils import shuffle\n",
        "from keras import Input, Model\n",
        "from keras.layers import Dense, Dropout, Conv2D, MaxPooling2D, Flatten, BatchNormalization, Activation\n",
        "from keras.preprocessing.image import ImageDataGenerator\n",
        "from keras.datasets import mnist, cifar10\n",
        "from keras.utils import to_categorical\n",
        "from livelossplot import PlotLossesKeras\n",
        "matplotlib.rcParams['figure.figsize'] = (10.0, 8.0)\n",
        "!nvidia-smi -L"
      ],
      "execution_count": null,
      "outputs": []
    },
    {
      "cell_type": "code",
      "metadata": {
        "id": "Wq3kt-CcdoPu"
      },
      "source": [
        "# set random seeds for more reproducible results\n",
        "from numpy.random import seed\n",
        "seed(42)\n",
        "from tensorflow import set_random_seed\n",
        "set_random_seed(43)"
      ],
      "execution_count": null,
      "outputs": []
    },
    {
      "cell_type": "code",
      "metadata": {
        "id": "OFIQLJfAdoP4"
      },
      "source": [
        "# load dataset\n",
        "(raw_x_train, raw_y_train), (raw_x_test, raw_y_test) = mnist.load_data()\n",
        "#(raw_x_train, raw_y_train), (raw_x_test, raw_y_test) = cifar10.load_data()\n",
        "print(raw_x_train.shape, raw_y_train.shape)\n",
        "gray = False\n",
        "if len(raw_x_train.shape)==4 and gray:\n",
        "    raw_x_train = np.mean(raw_x_train, axis=-1, keepdims=True)\n",
        "    raw_x_test = np.mean(raw_x_test, axis=-1, keepdims=True)\n",
        "if len(raw_x_train.shape)==3:\n",
        "    raw_x_train = np.expand_dims(raw_x_train, axis=-1)\n",
        "    raw_x_test = np.expand_dims(raw_x_test, axis=-1)\n",
        "train_size = len(raw_y_train)\n",
        "test_size = len(raw_y_test)\n",
        "xdim = raw_x_train.shape[1]\n",
        "ydim = raw_x_train.shape[2]\n",
        "cdim = raw_x_train.shape[3]\n",
        "print(raw_x_train.dtype, raw_y_train.dtype)"
      ],
      "execution_count": null,
      "outputs": []
    },
    {
      "cell_type": "code",
      "metadata": {
        "id": "xOR0rcAvdoQD"
      },
      "source": [
        "print(raw_x_train[0])\n",
        "print(raw_y_train[0])\n",
        "if raw_x_train.shape[-1]==1:\n",
        "    plt.imshow(raw_x_train[0][..., 0], cmap='gray')\n",
        "else:\n",
        "    plt.imshow(raw_x_train[0])"
      ],
      "execution_count": null,
      "outputs": []
    },
    {
      "cell_type": "code",
      "metadata": {
        "id": "aByrOryzdoQL"
      },
      "source": [
        "print(np.min(raw_x_train), np.max(raw_x_train), np.median(raw_x_train))\n",
        "print(np.unique(raw_y_train, return_counts=True))\n",
        "print(np.unique(raw_y_test, return_counts=True))"
      ],
      "execution_count": null,
      "outputs": []
    },
    {
      "cell_type": "code",
      "metadata": {
        "id": "GW4FUMYt1Ng3"
      },
      "source": [
        "x_train, y_train = shuffle(raw_x_train, raw_y_train, random_state=44)\n",
        "x_train = x_train/255\n",
        "x_test = raw_x_test/255\n",
        "y_test = raw_y_test\n",
        "x_train = np.asarray([x for x,y in zip(x_train,y_train) if y in (2,3,5,6,8)])\n",
        "def trans(y):\n",
        "  if y==2:\n",
        "    return 0\n",
        "  if y==3:\n",
        "    return 1\n",
        "  if y==5:\n",
        "    return 2\n",
        "  if y==6:\n",
        "    return 3\n",
        "  if y==8:\n",
        "    return 4\n",
        "y_train = np.asarray([trans(y) for y in y_train if y in (2,3,5,6,8)])\n",
        "\n",
        "n_classes = len(np.unique(y_train))\n",
        "print(n_classes)\n",
        "print(np.unique(y_train, return_counts=True))\n",
        "y_train = to_categorical(y_train, n_classes)"
      ],
      "execution_count": null,
      "outputs": []
    },
    {
      "cell_type": "code",
      "metadata": {
        "id": "xoVBMcSDfPys"
      },
      "source": [
        "from mpl_toolkits.axes_grid1 import ImageGrid\n",
        "\n",
        "#helper function to plot in grids\n",
        "def show_grid(image_list,nrows,ncols,label_list=None,show_labels=False,savename=None,figsize=(10,10),showaxis='off'):\n",
        "    if type(image_list) is not list:\n",
        "        if(image_list.shape[-1]==1):\n",
        "            image_list = [image_list[i,:,:,0] for i in range(image_list.shape[0])]\n",
        "        elif(image_list.shape[-1]==3):\n",
        "            image_list = [image_list[i,:,:,:] for i in range(image_list.shape[0])]\n",
        "    fig = plt.figure(None, figsize,frameon=False)\n",
        "    grid = ImageGrid(fig, 111,  # similar to subplot(111)\n",
        "                     nrows_ncols=(nrows, ncols),  # creates 2x2 grid of axes\n",
        "                     axes_pad=0.3,  # pad between axes in inch.\n",
        "                     share_all=True,\n",
        "                     )\n",
        "    for i in range(nrows*ncols):\n",
        "        ax = grid[i]\n",
        "        ax.imshow(image_list[i],cmap='Greys_r')  # The AxesGrid object work as a list of axes.\n",
        "        ax.axis('off')\n",
        "        if show_labels:\n",
        "            ax.set_title(label_list[i])\n",
        "    if savename != None:\n",
        "        plt.savefig(savename,bbox_inches='tight')\n",
        "\n",
        "show_grid(raw_x_train[:32],4,8,label_list=np.squeeze(raw_y_train[:32]),show_labels=True,figsize=(20,10))"
      ],
      "execution_count": null,
      "outputs": []
    },
    {
      "cell_type": "code",
      "metadata": {
        "id": "mgy7JjGgdoQd"
      },
      "source": [
        "def get_model(bn):\n",
        "    inputs = Input(shape=(xdim, ydim, cdim))\n",
        "    f = Conv2D(filters=32, kernel_size=3, activation='relu')(inputs)\n",
        "    if bn:\n",
        "        f = BatchNormalization()(f)\n",
        "    f = Conv2D(filters=32, kernel_size=3, activation='relu')(f)\n",
        "    if bn:\n",
        "        f = BatchNormalization()(f)\n",
        "    f = MaxPooling2D()(f)\n",
        "    f = Dropout(0.25)(f)\n",
        "    f = Conv2D(filters=64, kernel_size=3, activation='relu')(f)\n",
        "    if bn:\n",
        "        f = BatchNormalization()(f)\n",
        "    f = Conv2D(filters=64, kernel_size=3, activation='relu')(f)\n",
        "    if bn:\n",
        "        f = BatchNormalization()(f)\n",
        "    f = MaxPooling2D()(f)\n",
        "    f = Dropout(0.25)(f)\n",
        "    f = Flatten()(f)\n",
        "    f = Dense(512, activation='relu', name='embeddings')(f)\n",
        "    f = Dropout(0.5)(f)\n",
        "    f = Dense(n_classes, name='logits')(f)\n",
        "    outputs = Activation('softmax')(f)\n",
        "    return Model(inputs=inputs, outputs=outputs)"
      ],
      "execution_count": null,
      "outputs": []
    },
    {
      "cell_type": "code",
      "metadata": {
        "id": "JTpa8BPedoQ5"
      },
      "source": [
        "model = get_model(bn=False)\n",
        "model.compile(optimizer='sgd', loss='categorical_crossentropy', metrics=['accuracy'])\n",
        "history = model.fit(x=x_train, y=y_train, batch_size=64, epochs=100, validation_split=0.2, callbacks=[PlotLossesKeras()])"
      ],
      "execution_count": null,
      "outputs": []
    },
    {
      "cell_type": "code",
      "metadata": {
        "id": "tzwkn83-doRA"
      },
      "source": [
        "plt.plot(history.history['acc'])\n",
        "plt.plot(history.history['val_acc'])\n",
        "plt.title('model accuracy')\n",
        "plt.ylabel('accuracy')\n",
        "plt.xlabel('epoch')\n",
        "plt.legend(['train', 'valid'], loc='upper left')\n",
        "plt.show()\n",
        "# summarize history for loss\n",
        "plt.plot(history.history['loss'])\n",
        "plt.plot(history.history['val_loss'])\n",
        "plt.title('model loss')\n",
        "plt.ylabel('loss')\n",
        "plt.xlabel('epoch')\n",
        "plt.legend(['train', 'valid'], loc='upper left')\n",
        "plt.show()"
      ],
      "execution_count": null,
      "outputs": []
    },
    {
      "cell_type": "code",
      "metadata": {
        "id": "eBEFXIHdM7ts"
      },
      "source": [
        "get_logits = Model(inputs=model.input, outputs=model.get_layer('logits').output)"
      ],
      "execution_count": null,
      "outputs": []
    },
    {
      "cell_type": "code",
      "metadata": {
        "id": "lL80uAcIBkp7"
      },
      "source": [
        "logits = get_logits.predict(x_test)\n",
        "max_logits = np.max(logits, axis=-1)-np.min(logits, axis=-1)\n",
        "logit_normal = [p for p,y in zip(max_logits, y_test) if y in (2,3,5,6,8)]\n",
        "logit_novel = [p for p,y in zip(max_logits, y_test) if y==4]\n",
        "plt.hist(logit_normal, 20, density=True, alpha=0.5, label='normal')\n",
        "plt.hist(logit_novel, 20, density=True, alpha=0.5, label='novel')"
      ],
      "execution_count": null,
      "outputs": []
    },
    {
      "cell_type": "code",
      "metadata": {
        "id": "mKVvxFwWRmFj"
      },
      "source": [
        "from sklearn.manifold import TSNE\n",
        "tsne = TSNE(n_components=2, init='pca')\n",
        "\n",
        "x_normal = np.asarray([x for x,y in zip(x_test,y_test) if y in (2,3,5,6,8)])\n",
        "x_novel = np.asarray([x for x,y in zip(x_test,y_test) if y==4])\n",
        "\n",
        "get_emb = Model(inputs=model.input, outputs=model.get_layer('embeddings').output)\n",
        "code_normal = get_emb.predict(x_normal)\n",
        "code_novel = get_emb.predict(x_novel)\n",
        "\n",
        "low = tsne.fit_transform(np.vstack((code_normal,code_novel)))"
      ],
      "execution_count": null,
      "outputs": []
    },
    {
      "cell_type": "code",
      "metadata": {
        "id": "5dcTkflpRoep"
      },
      "source": [
        "t_normal = low[:len(code_normal)]\n",
        "t_novel = low[len(code_normal):]\n",
        "fig=plt.figure(figsize=(9,6), dpi= 80, facecolor='w', edgecolor='k')\n",
        "plt.scatter(t_normal[:,0],t_normal[:,1],color='b',s=2)\n",
        "plt.scatter(t_novel[:,0],t_novel[:,1],color='r',alpha=0.5,s=2)\n",
        "plt.show()"
      ],
      "execution_count": null,
      "outputs": []
    }
  ]
}
