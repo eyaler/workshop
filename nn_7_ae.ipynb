{
  "nbformat": 4,
  "nbformat_minor": 0,
  "metadata": {
    "accelerator": "GPU",
    "colab": {
      "name": "nn_7_ae",
      "provenance": [],
      "collapsed_sections": [],
      "include_colab_link": true
    },
    "kernelspec": {
      "name": "python3",
      "display_name": "Python 3"
    },
    "language_info": {
      "codemirror_mode": {
        "name": "ipython",
        "version": 3
      },
      "file_extension": ".py",
      "mimetype": "text/x-python",
      "name": "python",
      "nbconvert_exporter": "python",
      "pygments_lexer": "ipython3",
      "version": "3.6.8"
    }
  },
  "cells": [
    {
      "cell_type": "markdown",
      "metadata": {
        "id": "view-in-github",
        "colab_type": "text"
      },
      "source": [
        "<a href=\"https://colab.research.google.com/github/eyaler/workshop/blob/master/nn_7_ae.ipynb\" target=\"_parent\"><img src=\"https://colab.research.google.com/assets/colab-badge.svg\" alt=\"Open In Colab\"/></a>"
      ]
    },
    {
      "cell_type": "markdown",
      "metadata": {
        "id": "VPL9z9UsfEgd"
      },
      "source": [
        "# 7. Autoencoders for image generation and novelty detection"
      ]
    },
    {
      "cell_type": "code",
      "metadata": {
        "id": "jaJB3RfDdoPl"
      },
      "source": [
        "!pip install tensorflow-gpu==1.15.3\n",
        "!pip install livelossplot\n",
        "!pip install keras==2.2.5\n",
        "import numpy as np\n",
        "import matplotlib\n",
        "import matplotlib.pyplot as plt\n",
        "from sklearn.utils import shuffle\n",
        "from keras import Input, Model\n",
        "from keras.layers import Dense, Dropout, Conv2D, MaxPooling2D, Flatten, BatchNormalization, UpSampling2D, Reshape\n",
        "from keras.preprocessing.image import ImageDataGenerator\n",
        "from keras.datasets import mnist, cifar10\n",
        "from keras.utils import to_categorical\n",
        "from livelossplot import PlotLossesKeras\n",
        "matplotlib.rcParams['figure.figsize'] = (10.0, 8.0)\n",
        "!nvidia-smi -L"
      ],
      "execution_count": null,
      "outputs": []
    },
    {
      "cell_type": "code",
      "metadata": {
        "id": "Wq3kt-CcdoPu"
      },
      "source": [
        "# set random seeds for more reproducible results\n",
        "from numpy.random import seed\n",
        "seed(42)\n",
        "from tensorflow import set_random_seed\n",
        "set_random_seed(43)"
      ],
      "execution_count": null,
      "outputs": []
    },
    {
      "cell_type": "code",
      "metadata": {
        "id": "OFIQLJfAdoP4"
      },
      "source": [
        "# load dataset\n",
        "(raw_x_train, raw_y_train), (raw_x_test, raw_y_test) = mnist.load_data()\n",
        "#(raw_x_train, raw_y_train), (raw_x_test, raw_y_test) = cifar10.load_data()\n",
        "raw_x_train = np.expand_dims(raw_x_train, axis=-1)\n",
        "raw_x_test = np.expand_dims(raw_x_test, axis=-1)\n",
        "print(raw_x_train.shape, raw_y_train.shape)\n",
        "train_size = len(raw_y_train)\n",
        "test_size = len(raw_y_test)\n",
        "xdim = raw_x_train.shape[1]\n",
        "ydim = raw_x_train.shape[2]\n",
        "print(raw_x_train.dtype, raw_y_train.dtype)"
      ],
      "execution_count": null,
      "outputs": []
    },
    {
      "cell_type": "code",
      "metadata": {
        "id": "xOR0rcAvdoQD"
      },
      "source": [
        "plt.imshow(raw_x_train[0,...,0], cmap='gray')"
      ],
      "execution_count": null,
      "outputs": []
    },
    {
      "cell_type": "code",
      "metadata": {
        "id": "aByrOryzdoQL"
      },
      "source": [
        "print(np.min(raw_x_train), np.max(raw_x_train), np.median(raw_x_train))\n",
        "print(np.unique(raw_y_train, return_counts=True))\n",
        "print(np.unique(raw_y_test, return_counts=True))"
      ],
      "execution_count": null,
      "outputs": []
    },
    {
      "cell_type": "code",
      "metadata": {
        "id": "9t6k8cTn8t7S"
      },
      "source": [
        "x_train, y_train = shuffle(raw_x_train, raw_y_train, random_state=44)\n",
        "x_train = x_train/255\n",
        "x_test = raw_x_test/255\n",
        "y_test = raw_y_test\n",
        "\n",
        "x_train = np.asarray([x for x,y in zip(x_train,y_train) if y in (2,3,5,6,8)])\n",
        "n_classes = len(np.unique(y_train))"
      ],
      "execution_count": null,
      "outputs": []
    },
    {
      "cell_type": "code",
      "metadata": {
        "id": "hZLOk0vQggx0"
      },
      "source": [
        "from mpl_toolkits.axes_grid1 import ImageGrid\n",
        "\n",
        "#helper function to plot in grids\n",
        "def show_grid(image_list,nrows,ncols,label_list=None,show_labels=False,savename=None,figsize=(10,10),showaxis='off'):\n",
        "    if type(image_list) is not list:\n",
        "        if(image_list.shape[-1]==1):\n",
        "            image_list = [image_list[i,:,:,0] for i in range(image_list.shape[0])]\n",
        "        elif(image_list.shape[-1]==3):\n",
        "            image_list = [image_list[i,:,:,:] for i in range(image_list.shape[0])]\n",
        "    fig = plt.figure(None, figsize,frameon=False)\n",
        "    grid = ImageGrid(fig, 111,  # similar to subplot(111)\n",
        "                     nrows_ncols=(nrows, ncols),  # creates 2x2 grid of axes\n",
        "                     axes_pad=0.3,  # pad between axes in inch.\n",
        "                     share_all=True,\n",
        "                     )\n",
        "    for i in range(nrows*ncols):\n",
        "        ax = grid[i]\n",
        "        ax.imshow(image_list[i],cmap='Greys_r')  # The AxesGrid object work as a list of axes.\n",
        "        ax.axis('off')\n",
        "        if show_labels:\n",
        "            ax.set_title(label_list[i])\n",
        "    if savename != None:\n",
        "        plt.savefig(savename,bbox_inches='tight')\n",
        "\n",
        "show_grid(raw_x_train[:32],4,8,label_list=np.squeeze(raw_y_train[:32]),show_labels=True,figsize=(20,10))"
      ],
      "execution_count": null,
      "outputs": []
    },
    {
      "cell_type": "code",
      "metadata": {
        "id": "mgy7JjGgdoQd"
      },
      "source": [
        "def get_model():\n",
        "    inputs = Input(shape=(xdim, ydim,1))\n",
        "    f = Conv2D(filters=8, kernel_size=3, activation='relu', padding='same')(inputs)\n",
        "    f = MaxPooling2D()(f)\n",
        "    f = Conv2D(filters=8, kernel_size=3, activation='relu', padding='same')(f)\n",
        "    f = MaxPooling2D()(f)\n",
        "    f = Conv2D(filters=2, kernel_size=3, activation='relu', padding='same')(f)\n",
        "    encoded = MaxPooling2D(padding='same')(f)\n",
        "    \n",
        "    f = Conv2D(filters=2, kernel_size=3, activation='relu', padding='same')(encoded)\n",
        "    f = UpSampling2D()(f)\n",
        "    f = Conv2D(filters=8, kernel_size=3, activation='relu', padding='same')(f)\n",
        "    f = UpSampling2D()(f)\n",
        "    f = Conv2D(filters=8, kernel_size=3, activation='relu')(f)\n",
        "    f = UpSampling2D()(f)\n",
        "    outputs = Conv2D(filters=1, kernel_size=3, activation='sigmoid', padding='same')(f)\n",
        "    \n",
        "    return Model(inputs=inputs, outputs=outputs), Model(inputs=inputs, outputs=encoded)"
      ],
      "execution_count": null,
      "outputs": []
    },
    {
      "cell_type": "code",
      "metadata": {
        "id": "3JaZWamydoQk"
      },
      "source": [
        "model, encoder = get_model()\n",
        "\n",
        "print(model.summary())\n",
        "model.compile(optimizer='adadelta', loss='binary_crossentropy')\n",
        "history = model.fit(x=x_train, y=x_train, batch_size=512, epochs=300, validation_split=0.2, callbacks=[PlotLossesKeras()])"
      ],
      "execution_count": null,
      "outputs": []
    },
    {
      "cell_type": "code",
      "metadata": {
        "id": "tzwkn83-doRA"
      },
      "source": [
        "# summarize history for loss\n",
        "plt.plot(history.history['loss'])\n",
        "plt.plot(history.history['val_loss'])\n",
        "plt.title('model loss')\n",
        "plt.ylabel('loss')\n",
        "plt.xlabel('epoch')\n",
        "plt.legend(['train', 'valid'], loc='upper left')\n",
        "plt.show()"
      ],
      "execution_count": null,
      "outputs": []
    },
    {
      "cell_type": "code",
      "metadata": {
        "id": "NWZMYSWUG3Hh"
      },
      "source": [
        "x_normal = np.asarray([x for x,y in zip(x_test,y_test) if y in (2,3,5,6,8)])\n",
        "x_novel = np.asarray([x for x,y in zip(x_test,y_test) if y==4])\n",
        "recon_normal = model.predict(x_normal)\n",
        "recon_novel = model.predict(x_novel)"
      ],
      "execution_count": null,
      "outputs": []
    },
    {
      "cell_type": "code",
      "metadata": {
        "id": "Rb6iGw7gHKK1"
      },
      "source": [
        "plt.imshow(x_normal[0,...,0], cmap='gray')\n"
      ],
      "execution_count": null,
      "outputs": []
    },
    {
      "cell_type": "code",
      "metadata": {
        "id": "SeouczueLuT3"
      },
      "source": [
        "plt.imshow(recon_normal[0,...,0],cmap='gray')"
      ],
      "execution_count": null,
      "outputs": []
    },
    {
      "cell_type": "code",
      "metadata": {
        "id": "Tc17FyDRSjPD"
      },
      "source": [
        "plt.imshow(x_novel[0,...,0], cmap='gray')"
      ],
      "execution_count": null,
      "outputs": []
    },
    {
      "cell_type": "code",
      "metadata": {
        "id": "i7IxR1JfSmOO"
      },
      "source": [
        "plt.imshow(recon_novel[0,...,0],cmap='gray')"
      ],
      "execution_count": null,
      "outputs": []
    },
    {
      "cell_type": "code",
      "metadata": {
        "id": "adnaq4duIjtD"
      },
      "source": [
        "error_normal = -np.mean(np.log(recon_normal+1e-19)*x_normal+np.log(1-recon_normal+1e-19)*(1-x_normal),axis=(1,2,3))\n",
        "error_novel = -np.mean(np.log(recon_novel+1e-19)*x_novel+np.log(1-recon_novel+1e-19)*(1-x_novel),axis=(1,2,3))\n",
        "print(np.mean(error_normal),np.mean(error_novel))\n",
        "plt.hist(error_normal, 20, density=True, alpha=0.5, label='normal')\n",
        "plt.hist(error_novel, 20, density=True, alpha=0.5, label='novel')"
      ],
      "execution_count": null,
      "outputs": []
    },
    {
      "cell_type": "code",
      "metadata": {
        "id": "hb0LwOrxSoRD"
      },
      "source": [
        "code_normal = np.reshape(encoder.predict(x_normal),(-1,32))\n",
        "code_novel = np.reshape(encoder.predict(x_novel),(-1,32))"
      ],
      "execution_count": null,
      "outputs": []
    },
    {
      "cell_type": "code",
      "metadata": {
        "id": "RyuE5yPDkrsN"
      },
      "source": [
        "from sklearn.manifold import TSNE\n",
        "tsne = TSNE(n_components=2, init='pca')\n",
        "low = tsne.fit_transform(np.vstack((code_normal,code_novel)))"
      ],
      "execution_count": null,
      "outputs": []
    },
    {
      "cell_type": "code",
      "metadata": {
        "id": "4Uz_41EFvHq0"
      },
      "source": [
        "t_normal = low[:len(code_normal)]\n",
        "t_novel = low[len(code_normal):]\n",
        "fig=plt.figure(figsize=(9,6), dpi= 80, facecolor='w', edgecolor='k')\n",
        "plt.scatter(t_normal[:,0],t_normal[:,1],color='b',s=2)\n",
        "plt.scatter(t_novel[:,0],t_novel[:,1],color='r',alpha=0.5,s=2)\n",
        "plt.show()"
      ],
      "execution_count": null,
      "outputs": []
    }
  ]
}
