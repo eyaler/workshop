{
  "nbformat": 4,
  "nbformat_minor": 0,
  "metadata": {
    "kernelspec": {
      "display_name": "Python 3",
      "language": "python",
      "name": "python3"
    },
    "language_info": {
      "codemirror_mode": {
        "name": "ipython",
        "version": 3
      },
      "file_extension": ".py",
      "mimetype": "text/x-python",
      "name": "python",
      "nbconvert_exporter": "python",
      "pygments_lexer": "ipython3",
      "version": "3.7.7"
    },
    "colab": {
      "name": "Hebrew word embeddings and graphs.ipynb",
      "provenance": [],
      "collapsed_sections": [],
      "machine_shape": "hm",
      "include_colab_link": true
    }
  },
  "cells": [
    {
      "cell_type": "markdown",
      "metadata": {
        "id": "view-in-github",
        "colab_type": "text"
      },
      "source": [
        "<a href=\"https://colab.research.google.com/github/eyaler/workshop/blob/master/Hebrew_word_embeddings_and_graphs.ipynb\" target=\"_parent\"><img src=\"https://colab.research.google.com/assets/colab-badge.svg\" alt=\"Open In Colab\"/></a>"
      ]
    },
    {
      "cell_type": "code",
      "metadata": {
        "id": "mv7deUraouGC",
        "colab": {
          "base_uri": "https://localhost:8080/"
        },
        "outputId": "3ddde258-4633-46d8-abc9-d00a74ba956c"
      },
      "source": [
        "!pip install -U gensim\n",
        "from gensim.models import KeyedVectors, fasttext\n",
        "import os\n",
        "\n",
        "if not os.path.exists('/content/cc.he.300.bin'):\n",
        "  !wget --no-check-certificate -nc https://dl.fbaipublicfiles.com/fasttext/vectors-crawl/cc.he.300.bin.gz\n",
        "  !gzip -d /content/cc.he.300.bin.gz\n",
        "\n",
        "fast_model = fasttext.load_facebook_vectors('/content/cc.he.300.bin')\n"
      ],
      "execution_count": null,
      "outputs": [
        {
          "output_type": "stream",
          "text": [
            "Requirement already up-to-date: gensim in /usr/local/lib/python3.6/dist-packages (3.8.3)\n",
            "Requirement already satisfied, skipping upgrade: numpy>=1.11.3 in /usr/local/lib/python3.6/dist-packages (from gensim) (1.18.5)\n",
            "Requirement already satisfied, skipping upgrade: smart-open>=1.8.1 in /usr/local/lib/python3.6/dist-packages (from gensim) (3.0.0)\n",
            "Requirement already satisfied, skipping upgrade: six>=1.5.0 in /usr/local/lib/python3.6/dist-packages (from gensim) (1.15.0)\n",
            "Requirement already satisfied, skipping upgrade: scipy>=0.18.1 in /usr/local/lib/python3.6/dist-packages (from gensim) (1.4.1)\n",
            "Requirement already satisfied, skipping upgrade: requests in /usr/local/lib/python3.6/dist-packages (from smart-open>=1.8.1->gensim) (2.23.0)\n",
            "Requirement already satisfied, skipping upgrade: idna<3,>=2.5 in /usr/local/lib/python3.6/dist-packages (from requests->smart-open>=1.8.1->gensim) (2.10)\n",
            "Requirement already satisfied, skipping upgrade: certifi>=2017.4.17 in /usr/local/lib/python3.6/dist-packages (from requests->smart-open>=1.8.1->gensim) (2020.11.8)\n",
            "Requirement already satisfied, skipping upgrade: urllib3!=1.25.0,!=1.25.1,<1.26,>=1.21.1 in /usr/local/lib/python3.6/dist-packages (from requests->smart-open>=1.8.1->gensim) (1.24.3)\n",
            "Requirement already satisfied, skipping upgrade: chardet<4,>=3.0.2 in /usr/local/lib/python3.6/dist-packages (from requests->smart-open>=1.8.1->gensim) (3.0.4)\n"
          ],
          "name": "stdout"
        }
      ]
    },
    {
      "cell_type": "code",
      "metadata": {
        "id": "QK6HeJOzouG5"
      },
      "source": [
        "print(fast_model.most_similar('חתול'))\n",
        "print(fast_model.most_similar('חתול', restrict_vocab=100000))"
      ],
      "execution_count": null,
      "outputs": []
    },
    {
      "cell_type": "code",
      "metadata": {
        "id": "v_XJVVFAZtpE"
      },
      "source": [
        "print(fast_model.most_similar('שונה'))\n",
        "print(fast_model.most_similar('שונה', restrict_vocab=100000))"
      ],
      "execution_count": null,
      "outputs": []
    },
    {
      "cell_type": "code",
      "metadata": {
        "id": "bZQGNIMSouHD"
      },
      "source": [
        "print(fast_model.most_similar(positive=['אישה','מלך'], negative=['גבר']))\n",
        "print(fast_model.most_similar(positive=['אישה','מלך'], negative=['גבר'], restrict_vocab=100000))"
      ],
      "execution_count": null,
      "outputs": []
    },
    {
      "cell_type": "code",
      "metadata": {
        "id": "aqn9ggf5YYcp"
      },
      "source": [
        "print(fast_model.most_similar(positive=['אשה','מלך'], negative=['גבר']))\n",
        "print(fast_model.most_similar(positive=['אשה','מלך'], negative=['גבר'], restrict_vocab=100000))"
      ],
      "execution_count": null,
      "outputs": []
    },
    {
      "cell_type": "code",
      "metadata": {
        "id": "Y3TUHJi0XLkG"
      },
      "source": [
        "print(fast_model.most_similar(positive=['אישה','מלך'], negative=['איש']))\n",
        "print(fast_model.most_similar(positive=['אישה','מלך'], negative=['איש'], restrict_vocab=100000))"
      ],
      "execution_count": null,
      "outputs": []
    },
    {
      "cell_type": "code",
      "metadata": {
        "id": "DFAo1ww5YcyW"
      },
      "source": [
        "print(fast_model.most_similar(positive=['אשה','מלך'], negative=['איש']))\n",
        "print(fast_model.most_similar(positive=['אשה','מלך'], negative=['איש'], restrict_vocab=100000))"
      ],
      "execution_count": null,
      "outputs": []
    },
    {
      "cell_type": "code",
      "metadata": {
        "id": "bQwItJFzXZxS"
      },
      "source": [
        "print(fast_model.doesnt_match(['עצוב','שמח','מרוצה','מבסוט']))"
      ],
      "execution_count": null,
      "outputs": []
    },
    {
      "cell_type": "code",
      "metadata": {
        "id": "6VvkionfXuac"
      },
      "source": [
        "print(fast_model.doesnt_match(['עט','אופניים','ספר','עיתון']))"
      ],
      "execution_count": null,
      "outputs": []
    },
    {
      "cell_type": "code",
      "metadata": {
        "id": "LK0rr7zrY8G2"
      },
      "source": [
        "print(fast_model.doesnt_match(['עט','אוטו','ספר','עיתון']))"
      ],
      "execution_count": null,
      "outputs": []
    },
    {
      "cell_type": "code",
      "metadata": {
        "id": "31bO7pg7ZO8C"
      },
      "source": [
        "print(fast_model.doesnt_match(['טוש','אופנוע','ספר','עיתון']))"
      ],
      "execution_count": null,
      "outputs": []
    },
    {
      "cell_type": "code",
      "metadata": {
        "id": "vcDephkL6xQ8"
      },
      "source": [
        "restrict_vocab = 10000\n",
        "model = KeyedVectors(len(fast_model.vectors[0]))\n",
        "model.add(fast_model.index2word[:restrict_vocab], fast_model.vectors[:restrict_vocab])\n",
        "fast_model = model"
      ],
      "execution_count": null,
      "outputs": []
    },
    {
      "cell_type": "code",
      "metadata": {
        "id": "YV5a2tf2c2Ie"
      },
      "source": [
        "#https://anotherdatum.com/word-morph.html\n",
        "top_k_nbs = 10\n",
        "graph1 = {word: fast_model.most_similar(word, topn=restrict_vocab, restrict_vocab=restrict_vocab) for word in fast_model.index2word[:restrict_vocab]}\n",
        "graph1['חתול'][:top_k_nbs]"
      ],
      "execution_count": null,
      "outputs": []
    },
    {
      "cell_type": "code",
      "metadata": {
        "id": "_dBdvccBkNHq"
      },
      "source": [
        "!pip install editdistance\n",
        "import editdistance\n",
        "from collections import defaultdict\n",
        "graph1a = defaultdict(list)\n",
        "for word in graph1:\n",
        "  for nb,_ in graph1[word]:\n",
        "    if editdistance.eval(nb,word)>=min_dist:\n",
        "      graph1a[word].append(nb)\n",
        "    if len(graph1a[word])==top_k_nbs:\n",
        "      break\n",
        "graph1a['חתול']"
      ],
      "execution_count": null,
      "outputs": []
    },
    {
      "cell_type": "code",
      "metadata": {
        "id": "U_DD45idmgQ2"
      },
      "source": [
        "from collections import defaultdict\n",
        "graph1b = defaultdict(list)\n",
        "for word in fast_model.index2word[:restrict_vocab]:\n",
        "  for nb,_ in fast_model.most_similar(word, topn=restrict_vocab, restrict_vocab=restrict_vocab):\n",
        "    if all(editdistance.eval(nb,nb1)>=min_dist for nb1 in graph1b[word]+[word]):\n",
        "      graph1b[word].append(nb)\n",
        "    if len(graph1b[word])==top_k_nbs:\n",
        "      break\n",
        "graph1b['חתול']"
      ],
      "execution_count": null,
      "outputs": []
    },
    {
      "cell_type": "code",
      "metadata": {
        "id": "UIRSwHj9e7aA"
      },
      "source": [
        "# https://imada.sdu.dk/~zimek/publications/SSDBM2010/SNN-SSDBM2010-preprint.pdf\n",
        "from collections import defaultdict, Counter\n",
        "graph2 = defaultdict(Counter)\n",
        "for word, nbs in graph1.items():\n",
        "    nbs_plus_word = nbs + [(word,None)]\n",
        "    for i, (nb1,_) in enumerate(nbs_plus_word[:-1]):\n",
        "        for nb2,_ in nbs_plus_word[i+1:]:\n",
        "          if editdistance.eval(nb1,nb2)>=min_dist:\n",
        "            graph2[nb1][nb2] += 1\n",
        "            graph2[nb2][nb1] += 1\n",
        "graph2 = {k: sorted(v.items(), key=lambda x: (-x[1],x[0])) for k,v in graph2.items() if len(v)>0}\n",
        "graph2['חתול']"
      ],
      "execution_count": null,
      "outputs": []
    },
    {
      "cell_type": "code",
      "metadata": {
        "id": "6QSFVbTYiaK2"
      },
      "source": [
        "sorted(graph2.items(), key=lambda x: (len(x[1]),x[0])) #highest degree nodes"
      ],
      "execution_count": null,
      "outputs": []
    }
  ]
}