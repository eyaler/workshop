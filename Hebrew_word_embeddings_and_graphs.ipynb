{
  "nbformat": 4,
  "nbformat_minor": 0,
  "metadata": {
    "kernelspec": {
      "display_name": "Python 3",
      "language": "python",
      "name": "python3"
    },
    "language_info": {
      "codemirror_mode": {
        "name": "ipython",
        "version": 3
      },
      "file_extension": ".py",
      "mimetype": "text/x-python",
      "name": "python",
      "nbconvert_exporter": "python",
      "pygments_lexer": "ipython3",
      "version": "3.7.7"
    },
    "colab": {
      "name": "Hebrew word embeddings and graphs.ipynb",
      "provenance": [],
      "collapsed_sections": [],
      "machine_shape": "hm",
      "include_colab_link": true
    }
  },
  "cells": [
    {
      "cell_type": "markdown",
      "metadata": {
        "id": "view-in-github",
        "colab_type": "text"
      },
      "source": [
        "<a href=\"https://colab.research.google.com/github/eyaler/workshop/blob/master/Hebrew_word_embeddings_and_graphs.ipynb\" target=\"_parent\"><img src=\"https://colab.research.google.com/assets/colab-badge.svg\" alt=\"Open In Colab\"/></a>"
      ]
    },
    {
      "cell_type": "code",
      "metadata": {
        "id": "mv7deUraouGC",
        "colab": {
          "base_uri": "https://localhost:8080/"
        },
        "outputId": "3ddde258-4633-46d8-abc9-d00a74ba956c"
      },
      "source": [
        "!pip install -U gensim\n",
        "from gensim.models import KeyedVectors, fasttext\n",
        "import os\n",
        "\n",
        "if not os.path.exists('/content/cc.he.300.bin'):\n",
        "  !wget --no-check-certificate -nc https://dl.fbaipublicfiles.com/fasttext/vectors-crawl/cc.he.300.bin.gz\n",
        "  !gzip -d /content/cc.he.300.bin.gz\n",
        "\n",
        "fast_model = fasttext.load_facebook_vectors('/content/cc.he.300.bin')\n"
      ],
      "execution_count": 1,
      "outputs": [
        {
          "output_type": "stream",
          "text": [
            "Requirement already up-to-date: gensim in /usr/local/lib/python3.6/dist-packages (3.8.3)\n",
            "Requirement already satisfied, skipping upgrade: numpy>=1.11.3 in /usr/local/lib/python3.6/dist-packages (from gensim) (1.18.5)\n",
            "Requirement already satisfied, skipping upgrade: smart-open>=1.8.1 in /usr/local/lib/python3.6/dist-packages (from gensim) (3.0.0)\n",
            "Requirement already satisfied, skipping upgrade: six>=1.5.0 in /usr/local/lib/python3.6/dist-packages (from gensim) (1.15.0)\n",
            "Requirement already satisfied, skipping upgrade: scipy>=0.18.1 in /usr/local/lib/python3.6/dist-packages (from gensim) (1.4.1)\n",
            "Requirement already satisfied, skipping upgrade: requests in /usr/local/lib/python3.6/dist-packages (from smart-open>=1.8.1->gensim) (2.23.0)\n",
            "Requirement already satisfied, skipping upgrade: idna<3,>=2.5 in /usr/local/lib/python3.6/dist-packages (from requests->smart-open>=1.8.1->gensim) (2.10)\n",
            "Requirement already satisfied, skipping upgrade: certifi>=2017.4.17 in /usr/local/lib/python3.6/dist-packages (from requests->smart-open>=1.8.1->gensim) (2020.11.8)\n",
            "Requirement already satisfied, skipping upgrade: urllib3!=1.25.0,!=1.25.1,<1.26,>=1.21.1 in /usr/local/lib/python3.6/dist-packages (from requests->smart-open>=1.8.1->gensim) (1.24.3)\n",
            "Requirement already satisfied, skipping upgrade: chardet<4,>=3.0.2 in /usr/local/lib/python3.6/dist-packages (from requests->smart-open>=1.8.1->gensim) (3.0.4)\n"
          ],
          "name": "stdout"
        }
      ]
    },
    {
      "cell_type": "code",
      "metadata": {
        "id": "QK6HeJOzouG5",
        "colab": {
          "base_uri": "https://localhost:8080/"
        },
        "outputId": "d7509c8b-3143-4bb6-c94b-c2edc1a8f8eb"
      },
      "source": [
        "print(fast_model.most_similar('חתול'))\n",
        "print(fast_model.most_similar('חתול', restrict_vocab=100000))"
      ],
      "execution_count": 2,
      "outputs": [
        {
          "output_type": "stream",
          "text": [
            "[('וחתול', 0.6690584421157837), ('שחתול', 0.6684871912002563), ('.חתול', 0.6603745222091675), ('כחתול', 0.6525396108627319), ('חתולים', 0.6511234045028687), ('-חתול', 0.6477771997451782), ('בחתול', 0.6474705934524536), ('החתול', 0.6442052125930786), ('ובחתול', 0.6392987966537476), ('כשחתול', 0.6369186639785767)]\n",
            "[('וחתול', 0.6690584421157837), ('חתולים', 0.6511234045028687), ('החתול', 0.6442052125930786), ('חתולי', 0.6217007040977478), ('חתלתול', 0.6026882529258728), ('לחתול', 0.6013578176498413), ('כלב', 0.5980173349380493), ('חתולה', 0.5617619752883911), ('ועכבר', 0.5469958782196045), ('בשק', 0.5036962032318115)]\n"
          ],
          "name": "stdout"
        }
      ]
    },
    {
      "cell_type": "code",
      "metadata": {
        "id": "v_XJVVFAZtpE",
        "colab": {
          "base_uri": "https://localhost:8080/"
        },
        "outputId": "eb92310c-29c7-438e-d3e0-28211895369e"
      },
      "source": [
        "print(fast_model.most_similar('שונה'))\n",
        "print(fast_model.most_similar('שונה', restrict_vocab=100000))"
      ],
      "execution_count": 3,
      "outputs": [
        {
          "output_type": "stream",
          "text": [
            "[('ושונה', 0.6868181824684143), ('דומה', 0.6545747518539429), ('שונה-', 0.6501239538192749), ('השונה', 0.6313119530677795), ('זהה', 0.6300926804542542), ('רשונה', 0.6189316511154175), ('בלתי-שונה', 0.6167619824409485), ('ששונה', 0.6046768426895142), ('וששונה', 0.5969350934028625), ('שונה.יש', 0.5895339250564575)]\n",
            "[('ושונה', 0.6868181824684143), ('דומה', 0.6545747518539429), ('השונה', 0.6313119530677795), ('זהה', 0.6300926804542542), ('ששונה', 0.6046768426895142), ('מהותית', 0.5527334809303284), ('משתנה', 0.5330750942230225), ('השתנה', 0.5260151028633118), ('במקצת', 0.5224893093109131), ('בתכלית', 0.5224720239639282)]\n"
          ],
          "name": "stdout"
        }
      ]
    },
    {
      "cell_type": "code",
      "metadata": {
        "id": "bZQGNIMSouHD",
        "colab": {
          "base_uri": "https://localhost:8080/"
        },
        "outputId": "2330376a-d4ab-42fb-94b5-d4b398e9feda"
      },
      "source": [
        "print(fast_model.most_similar(positive=['אישה','מלך'], negative=['גבר']))\n",
        "print(fast_model.most_similar(positive=['אישה','מלך'], negative=['גבר'], restrict_vocab=100000))"
      ],
      "execution_count": 4,
      "outputs": [
        {
          "output_type": "stream",
          "text": [
            "[('מלכת', 0.5616847276687622), ('ומלכת', 0.5583588480949402), ('ולמלכת', 0.5424869060516357), ('ומלך', 0.5320173501968384), ('ממלכת', 0.5211875438690186), ('דָּאג', 0.5199325084686279), ('ממלכי', 0.5114270448684692), ('דָּא', 0.5092200636863708), ('מלכי', 0.5065728425979614), ('כמלכי', 0.5042906999588013)]\n",
            "[('מלכת', 0.5616847276687622), ('ומלכת', 0.5583588480949402), ('ומלך', 0.5320173501968384), ('ממלכת', 0.5211875438690186), ('ממלכי', 0.5114270448684692), ('מלכי', 0.5065728425979614), ('למלכת', 0.502945065498352), ('למלך', 0.5005249977111816), ('מלכה', 0.4894740581512451), ('כמלכת', 0.488398939371109)]\n"
          ],
          "name": "stdout"
        }
      ]
    },
    {
      "cell_type": "code",
      "metadata": {
        "id": "aqn9ggf5YYcp",
        "colab": {
          "base_uri": "https://localhost:8080/"
        },
        "outputId": "78c2f04d-e695-4ba1-a88c-c8ba4939cfe2"
      },
      "source": [
        "print(fast_model.most_similar(positive=['אשה','מלך'], negative=['גבר']))\n",
        "print(fast_model.most_similar(positive=['אשה','מלך'], negative=['גבר'], restrict_vocab=100000))"
      ],
      "execution_count": 5,
      "outputs": [
        {
          "output_type": "stream",
          "text": [
            "[('מלכת', 0.4969049096107483), ('ומלך', 0.48970508575439453), ('ממלכי', 0.4886685609817505), ('ברניקיה', 0.48727673292160034), ('ולמלכת', 0.4807407557964325), ('כמלכי', 0.47944796085357666), ('ומלכת', 0.4753517210483551), ('דָּאג', 0.47272035479545593), ('דָּא', 0.471205472946167), ('במלכי', 0.4683530628681183)]\n",
            "[('מלכת', 0.4969049096107483), ('ומלך', 0.48970508575439453), ('ממלכי', 0.4886685609817505), ('ומלכת', 0.4753517210483551), ('מלכי', 0.46627312898635864), ('ממלכת', 0.46552252769470215), ('למלך', 0.45713579654693604), ('מלכה', 0.4556727409362793), ('למלכי', 0.45008957386016846), ('למלכת', 0.4328717589378357)]\n"
          ],
          "name": "stdout"
        }
      ]
    },
    {
      "cell_type": "code",
      "metadata": {
        "id": "Y3TUHJi0XLkG",
        "colab": {
          "base_uri": "https://localhost:8080/"
        },
        "outputId": "bd74e7ef-5a1c-4b1f-e97e-e65df4f2e2b2"
      },
      "source": [
        "print(fast_model.most_similar(positive=['אישה','מלך'], negative=['איש']))\n",
        "print(fast_model.most_similar(positive=['אישה','מלך'], negative=['איש'], restrict_vocab=100000))"
      ],
      "execution_count": 6,
      "outputs": [
        {
          "output_type": "stream",
          "text": [
            "[('אשה', 0.5347196459770203), ('.אישה', 0.4942471385002136), ('אאישה', 0.48574715852737427), ('2.אישה', 0.4852733910083771), ('ומלכת', 0.48436760902404785), ('כשאישה', 0.4821954369544983), ('תאישה', 0.48150527477264404), ('222אישה', 0.48015719652175903), ('אישה-אישה', 0.478790819644928), ('לעאאישה', 0.4771612286567688)]\n",
            "[('אשה', 0.5347196459770203), ('ומלכת', 0.48436760902404785), ('לאישה', 0.47511059045791626), ('ילדה', 0.4682011604309082), ('נסיכה', 0.46499431133270264), ('מאישה', 0.4624672830104828), ('כאישה', 0.46167024970054626), ('כמלכת', 0.44686731696128845), ('ומלך', 0.4457683563232422), ('למלך', 0.44453179836273193)]\n"
          ],
          "name": "stdout"
        }
      ]
    },
    {
      "cell_type": "code",
      "metadata": {
        "id": "DFAo1ww5YcyW",
        "colab": {
          "base_uri": "https://localhost:8080/"
        },
        "outputId": "e0a6c2a5-1e7b-4d54-c512-033df82c2257"
      },
      "source": [
        "print(fast_model.most_similar(positive=['אשה','מלך'], negative=['איש']))\n",
        "print(fast_model.most_similar(positive=['אשה','מלך'], negative=['איש'], restrict_vocab=100000))"
      ],
      "execution_count": 7,
      "outputs": [
        {
          "output_type": "stream",
          "text": [
            "[('אישה', 0.5546357035636902), ('לאשה', 0.4747302532196045), ('מפילגש', 0.46787649393081665), ('גונהילדה', 0.4657362699508667), ('דאישה', 0.46404117345809937), ('לאישה', 0.4626132845878601), ('שמלכה', 0.45977070927619934), ('שגרושה', 0.45658645033836365), ('אאישה', 0.4539925754070282), ('כנסיכה', 0.45368292927742004)]\n",
            "[('אישה', 0.5546357035636902), ('לאשה', 0.4747302532196045), ('לאישה', 0.4626132845878601), ('ומלכת', 0.442726731300354), ('מאישה', 0.44245702028274536), ('ילדה', 0.4406355619430542), ('ומלך', 0.43881723284721375), ('האשה', 0.43736839294433594), ('למלך', 0.43503472208976746), ('נסיכה', 0.4321402907371521)]\n"
          ],
          "name": "stdout"
        }
      ]
    },
    {
      "cell_type": "code",
      "metadata": {
        "id": "bQwItJFzXZxS",
        "colab": {
          "base_uri": "https://localhost:8080/"
        },
        "outputId": "4a123ef1-0043-4065-d286-303b26702064"
      },
      "source": [
        "print(fast_model.doesnt_match(['עצוב','שמח','מרוצה','מבסוט']))"
      ],
      "execution_count": 8,
      "outputs": [
        {
          "output_type": "stream",
          "text": [
            "עצוב\n"
          ],
          "name": "stdout"
        },
        {
          "output_type": "stream",
          "text": [
            "/usr/local/lib/python3.6/dist-packages/gensim/models/keyedvectors.py:877: FutureWarning: arrays to stack must be passed as a \"sequence\" type such as list or tuple. Support for non-sequence iterables such as generators is deprecated as of NumPy 1.16 and will raise an error in the future.\n",
            "  vectors = vstack(self.word_vec(word, use_norm=True) for word in used_words).astype(REAL)\n"
          ],
          "name": "stderr"
        }
      ]
    },
    {
      "cell_type": "code",
      "metadata": {
        "id": "6VvkionfXuac",
        "colab": {
          "base_uri": "https://localhost:8080/"
        },
        "outputId": "ff44cd26-f5bd-473a-ad4a-8720a40e5a59"
      },
      "source": [
        "print(fast_model.doesnt_match(['עט','אופניים','ספר','עיתון']))"
      ],
      "execution_count": 9,
      "outputs": [
        {
          "output_type": "stream",
          "text": [
            "עט\n"
          ],
          "name": "stdout"
        },
        {
          "output_type": "stream",
          "text": [
            "/usr/local/lib/python3.6/dist-packages/gensim/models/keyedvectors.py:877: FutureWarning: arrays to stack must be passed as a \"sequence\" type such as list or tuple. Support for non-sequence iterables such as generators is deprecated as of NumPy 1.16 and will raise an error in the future.\n",
            "  vectors = vstack(self.word_vec(word, use_norm=True) for word in used_words).astype(REAL)\n"
          ],
          "name": "stderr"
        }
      ]
    },
    {
      "cell_type": "code",
      "metadata": {
        "id": "LK0rr7zrY8G2",
        "colab": {
          "base_uri": "https://localhost:8080/"
        },
        "outputId": "0871638b-c94e-4493-b879-2f3d9d421ef5"
      },
      "source": [
        "print(fast_model.doesnt_match(['עט','אוטו','ספר','עיתון']))"
      ],
      "execution_count": 10,
      "outputs": [
        {
          "output_type": "stream",
          "text": [
            "אוטו\n"
          ],
          "name": "stdout"
        },
        {
          "output_type": "stream",
          "text": [
            "/usr/local/lib/python3.6/dist-packages/gensim/models/keyedvectors.py:877: FutureWarning: arrays to stack must be passed as a \"sequence\" type such as list or tuple. Support for non-sequence iterables such as generators is deprecated as of NumPy 1.16 and will raise an error in the future.\n",
            "  vectors = vstack(self.word_vec(word, use_norm=True) for word in used_words).astype(REAL)\n"
          ],
          "name": "stderr"
        }
      ]
    },
    {
      "cell_type": "code",
      "metadata": {
        "id": "31bO7pg7ZO8C",
        "colab": {
          "base_uri": "https://localhost:8080/"
        },
        "outputId": "3839be9a-d777-421d-a39a-1639a956ae21"
      },
      "source": [
        "print(fast_model.doesnt_match(['טוש','אופנוע','ספר','עיתון']))"
      ],
      "execution_count": 11,
      "outputs": [
        {
          "output_type": "stream",
          "text": [
            "טוש\n"
          ],
          "name": "stdout"
        },
        {
          "output_type": "stream",
          "text": [
            "/usr/local/lib/python3.6/dist-packages/gensim/models/keyedvectors.py:877: FutureWarning: arrays to stack must be passed as a \"sequence\" type such as list or tuple. Support for non-sequence iterables such as generators is deprecated as of NumPy 1.16 and will raise an error in the future.\n",
            "  vectors = vstack(self.word_vec(word, use_norm=True) for word in used_words).astype(REAL)\n"
          ],
          "name": "stderr"
        }
      ]
    },
    {
      "cell_type": "code",
      "metadata": {
        "id": "vcDephkL6xQ8"
      },
      "source": [
        "restrict_vocab = 10000\n",
        "model = KeyedVectors(len(fast_model.vectors[0]))\n",
        "model.add(fast_model.index2word[:restrict_vocab], fast_model.vectors[:restrict_vocab])\n",
        "fast_model = model"
      ],
      "execution_count": 12,
      "outputs": []
    },
    {
      "cell_type": "code",
      "metadata": {
        "colab": {
          "base_uri": "https://localhost:8080/"
        },
        "id": "YV5a2tf2c2Ie",
        "outputId": "7087edae-96e3-493e-d226-bb6b1080ed47"
      },
      "source": [
        "#https://anotherdatum.com/word-morph.html\n",
        "top_k_nbs = 10\n",
        "graph1 = {word: fast_model.most_similar(word, topn=restrict_vocab, restrict_vocab=restrict_vocab) for word in fast_model.index2word[:restrict_vocab]}\n",
        "graph1['חתול'][:top_k_nbs]"
      ],
      "execution_count": 13,
      "outputs": [
        {
          "output_type": "execute_result",
          "data": {
            "text/plain": [
              "[('החתול', 0.6442052125930786),\n",
              " ('כלב', 0.5980173349380493),\n",
              " ('הכלב', 0.4340388774871826),\n",
              " ('כלבים', 0.4199330508708954),\n",
              " ('ילד', 0.40865689516067505),\n",
              " ('תינוק', 0.40860867500305176),\n",
              " ('גור', 0.39410436153411865),\n",
              " ('מחמד', 0.37063080072402954),\n",
              " ('אמצו', 0.36669203639030457),\n",
              " ('שחור', 0.36378297209739685)]"
            ]
          },
          "metadata": {
            "tags": []
          },
          "execution_count": 13
        }
      ]
    },
    {
      "cell_type": "code",
      "metadata": {
        "colab": {
          "base_uri": "https://localhost:8080/"
        },
        "id": "_dBdvccBkNHq",
        "outputId": "fa946416-7386-45fe-93c0-99fcd898bc75"
      },
      "source": [
        "!pip install editdistance\n",
        "import editdistance\n",
        "from collections import defaultdict\n",
        "min_dist = 3\n",
        "graph1a = defaultdict(list)\n",
        "for word in graph1:\n",
        "  for nb,_ in graph1[word]:\n",
        "    if editdistance.eval(nb,word)>=min_dist:\n",
        "      graph1a[word].append(nb)\n",
        "    if len(graph1a[word])==top_k_nbs:\n",
        "      break\n",
        "graph1a['חתול']"
      ],
      "execution_count": 15,
      "outputs": [
        {
          "output_type": "stream",
          "text": [
            "Requirement already satisfied: editdistance in /usr/local/lib/python3.6/dist-packages (0.5.3)\n"
          ],
          "name": "stdout"
        },
        {
          "output_type": "execute_result",
          "data": {
            "text/plain": [
              "['כלב', 'הכלב', 'כלבים', 'ילד', 'תינוק', 'גור', 'מחמד', 'אמצו', 'שחור', 'חיה']"
            ]
          },
          "metadata": {
            "tags": []
          },
          "execution_count": 15
        }
      ]
    },
    {
      "cell_type": "code",
      "metadata": {
        "id": "U_DD45idmgQ2"
      },
      "source": [
        "from collections import defaultdict\n",
        "graph1b = defaultdict(list)\n",
        "for word in fast_model.index2word[:restrict_vocab]:\n",
        "  for nb,_ in fast_model.most_similar(word, topn=restrict_vocab, restrict_vocab=restrict_vocab):\n",
        "    if all(editdistance.eval(nb,nb1)>=min_dist for nb1 in graph1b[word]+[word]):\n",
        "      graph1b[word].append(nb)\n",
        "    if len(graph1b[word])==top_k_nbs:\n",
        "      break\n",
        "graph1b['חתול']"
      ],
      "execution_count": null,
      "outputs": []
    },
    {
      "cell_type": "code",
      "metadata": {
        "id": "UIRSwHj9e7aA"
      },
      "source": [
        "# https://imada.sdu.dk/~zimek/publications/SSDBM2010/SNN-SSDBM2010-preprint.pdf\n",
        "from collections import defaultdict, Counter\n",
        "graph2 = defaultdict(Counter)\n",
        "for word, nbs in graph1.items():\n",
        "    nbs_plus_word = nbs + [(word,None)]\n",
        "    for i, (nb1,_) in enumerate(nbs_plus_word[:-1]):\n",
        "        for nb2,_ in nbs_plus_word[i+1:]:\n",
        "          if editdistance.eval(nb1,nb2)>=min_dist:\n",
        "            graph2[nb1][nb2] += 1\n",
        "            graph2[nb2][nb1] += 1\n",
        "graph2 = {k: sorted(v.items(), key=lambda x: (-x[1],x[0])) for k,v in graph2.items() if len(v)>0}\n",
        "graph2['חתול']"
      ],
      "execution_count": null,
      "outputs": []
    },
    {
      "cell_type": "code",
      "metadata": {
        "id": "6QSFVbTYiaK2"
      },
      "source": [
        "sorted(graph2.items(), key=lambda x: (len(x[1]),x[0])) #highest degree nodes"
      ],
      "execution_count": null,
      "outputs": []
    }
  ]
}